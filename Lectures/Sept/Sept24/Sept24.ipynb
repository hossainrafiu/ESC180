{
 "cells": [
  {
   "cell_type": "markdown",
   "source": [],
   "metadata": {}
  },
  {
   "cell_type": "code",
   "execution_count": null,
   "source": [
    "a = 2\r\n",
    "a = a + 2\r\n",
    "a += 2\r\n",
    "a *= 12 # a = a * 12\r\n",
    "\r\n",
    "#n! = 1 * 2 * 3 * ... * n\r\n",
    "# 5! = 120\r\n",
    "# find the number of trailing zeros in n!\r\n",
    "\r\n",
    "def fact(n):\r\n",
    "    '''Return n!\r\n",
    "    n is a positive integer'''\r\n",
    "\r\n",
    "    res = 1\r\n",
    "    for i in range(1, n+1):\r\n",
    "        res *= i\r\n",
    "    \r\n",
    "    return res\r\n",
    "\r\n",
    "def trailing_zeros(n):\r\n",
    "    fact_n = fact(n)\r\n",
    "    counter = 0\r\n",
    "    \r\n",
    "    while fact_n%10 == 0:\r\n",
    "        fact_n //= 10\r\n",
    "        counter += 1\r\n",
    "    \r\n",
    "    return counter\r\n",
    "\r\n"
   ],
   "outputs": [],
   "metadata": {}
  },
  {
   "cell_type": "code",
   "execution_count": null,
   "source": [
    "print(fact(5000))\r\n",
    "print(trailing_zeros(5000))"
   ],
   "outputs": [],
   "metadata": {}
  },
  {
   "cell_type": "code",
   "execution_count": null,
   "source": [
    "def login (username, password):\r\n",
    "    global n_attempts\r\n",
    "\r\n",
    "    if n_attempts >= 3:\r\n",
    "        n_attempts += 1\r\n",
    "        return \"refused\"\r\n",
    "\r\n",
    "    if username == \"a\" and password == \"a\":\r\n",
    "        n_attempts = 0\r\n",
    "        return \"OK\"\r\n",
    "    if username == \"b\" and password == \"b\":\r\n",
    "        n_attempts = 0\r\n",
    "        return \"OK\"\r\n",
    "    if username == \"c\" and password == \"c\":\r\n",
    "        n_attempts = 0\r\n",
    "        return \"OK\"\r\n",
    "    \r\n",
    "    n_attempts += 1\r\n",
    "    return \"Refused\"\r\n",
    "\r\n",
    "def initialization():\r\n",
    "    global n_attempts\r\n",
    "    n_attempts = 0\r\n",
    "\r\n",
    "\r\n",
    "if __name__ == \"__main__\":\r\n",
    "    initialization()\r\n",
    "    print(login(\"a\", \"a\"))"
   ],
   "outputs": [],
   "metadata": {}
  },
  {
   "cell_type": "code",
   "execution_count": null,
   "source": [
    "# Lists\r\n",
    "\r\n",
    "earnings = [91, 87, 115, 108]\r\n",
    "\r\n",
    "earnings[0]\r\n",
    "earnings[3]\r\n",
    "\r\n",
    "len(earnings)\r\n",
    "\r\n",
    "for i in range (4):\r\n",
    "    print(earnings[i])\r\n",
    "\r\n",
    "for i in range (len(earnings)):\r\n",
    "    print(earnings[i])\r\n",
    "\r\n",
    "for amt in earnings:\r\n",
    "    print(amt)\r\n",
    "\r\n",
    "USD_to_CAD = 1.25\r\n",
    "for amt in earnings:\r\n",
    "    amt *= USD_to_CAD\r\n",
    "    print(amt)\r\n",
    "\r\n",
    "print(earnings)\r\n",
    "\r\n"
   ],
   "outputs": [],
   "metadata": {}
  }
 ],
 "metadata": {
  "orig_nbformat": 4,
  "language_info": {
   "name": "python",
   "version": "3.8.8",
   "mimetype": "text/x-python",
   "codemirror_mode": {
    "name": "ipython",
    "version": 3
   },
   "pygments_lexer": "ipython3",
   "nbconvert_exporter": "python",
   "file_extension": ".py"
  },
  "kernelspec": {
   "name": "python3",
   "display_name": "Python 3.8.8 64-bit ('base': conda)"
  },
  "interpreter": {
   "hash": "e4ea9f51126a42783da547ba185454a8cd3849cda04961f583534b8a51614973"
  }
 },
 "nbformat": 4,
 "nbformat_minor": 2
}