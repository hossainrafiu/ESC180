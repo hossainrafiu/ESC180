{
 "cells": [
  {
   "cell_type": "code",
   "execution_count": null,
   "source": [
    "# L contains 1 ... n except for some k\r\n",
    "# Find k efficiently\r\n",
    "\r\n",
    "def missing_k_efficiently(L):\r\n",
    "    \"\"\"\r\n",
    "    >>> missing_k_efficienty([1,2,3,4,6])\r\n",
    "    5\r\n",
    "    \"\"\"\r\n",
    "    n = len(L) + 1\r\n",
    "    cur_sum = 0\r\n",
    "    for e in L:\r\n",
    "        cur_sum += e\r\n",
    "    return n*(n+1)//2 - cur_sum\r\n",
    "\r\n",
    "print(missing_k_efficiently([1,2,3,4,6]))\r\n",
    "\r\n",
    "L = [1,3,2,6,3,5]\r\n",
    "L_sorted = sorted(L)\r\n",
    "print(L)\r\n",
    "print(L_sorted)\r\n",
    "\r\n",
    "L= [[1,3,5],[6,4,3]]\r\n",
    "L_flat = []\r\n",
    "for line in L:\r\n",
    "    L_flat.extend(line)\r\n",
    "print(L_flat)"
   ],
   "outputs": [],
   "metadata": {}
  },
  {
   "cell_type": "code",
   "execution_count": null,
   "source": [],
   "outputs": [],
   "metadata": {}
  }
 ],
 "metadata": {
  "orig_nbformat": 4,
  "language_info": {
   "name": "python",
   "version": "3.8.8",
   "mimetype": "text/x-python",
   "codemirror_mode": {
    "name": "ipython",
    "version": 3
   },
   "pygments_lexer": "ipython3",
   "nbconvert_exporter": "python",
   "file_extension": ".py"
  },
  "kernelspec": {
   "name": "python3",
   "display_name": "Python 3.8.8 64-bit ('base': conda)"
  },
  "interpreter": {
   "hash": "e4ea9f51126a42783da547ba185454a8cd3849cda04961f583534b8a51614973"
  }
 },
 "nbformat": 4,
 "nbformat_minor": 2
}