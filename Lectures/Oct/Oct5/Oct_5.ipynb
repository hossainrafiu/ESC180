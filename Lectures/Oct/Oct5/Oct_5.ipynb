{
 "cells": [
  {
   "cell_type": "code",
   "execution_count": null,
   "source": [
    "# memory table\r\n",
    "# address   value\r\n",
    "# ------------------------------\r\n",
    "# 0\r\n",
    "# 4         42\r\n",
    "# 8\r\n",
    "# 12\r\n",
    "\r\n",
    "# variable table\r\n",
    "#\r\n",
    "# variable  address\r\n",
    "# n         4\r\n",
    "# m         4\r\n",
    "\r\n",
    "n = 42\r\n",
    "print(n)\r\n",
    "\r\n",
    "m = n # Make the variable m refer to the same address as variable n\r\n",
    "print(id(n))\r\n",
    "print(id(m))\r\n",
    "m += 1 # Now refers to another address with 'its' new value\r\n",
    "print(n)\r\n",
    "print(m)\r\n",
    "print(id(n))\r\n",
    "print(id(m))\r\n",
    "n += 2\r\n",
    "print(n)\r\n",
    "print(m)\r\n",
    "print(id(n))\r\n",
    "print(id(m))"
   ],
   "outputs": [],
   "metadata": {}
  },
  {
   "cell_type": "code",
   "execution_count": null,
   "source": [
    "L = [1, 2, 3]\r\n",
    "L1 = L\r\n",
    "L1[0] = 5\r\n",
    "print(L)\r\n",
    "# L and L1 are aliases to each other\r\n",
    "\r\n",
    "# Objects whose contents you can change (like lists) are MUTABLE\r\n",
    "# objects whose contents you cannot change (like ints, strings) are IMMUTABLE\r\n",
    "#   No Need to worry about aliasing with IMMUTABLE"
   ],
   "outputs": [],
   "metadata": {}
  },
  {
   "cell_type": "code",
   "execution_count": null,
   "source": [
    "L2 = [1,2,3]\r\n",
    "L3 = L2\r\n",
    "L3 = [2,3,1] # changing what L3 is refering to, not changing L2\r\n",
    "print(L2)\r\n",
    "print(L3)"
   ],
   "outputs": [],
   "metadata": {}
  },
  {
   "cell_type": "code",
   "execution_count": null,
   "source": [
    "n = 42\r\n",
    "print(n)\r\n",
    "print(id(n))\r\n",
    "n += 1 \r\n",
    "m = 43 # refers to an address in memory that already has this integer (IMMUTABLE) value (MAYBE....!!!!)\r\n",
    "print(n)\r\n",
    "print(m)\r\n",
    "print(id(n))\r\n",
    "print(id(m))\r\n",
    "n += 2\r\n",
    "print(n)\r\n",
    "print(m)\r\n",
    "print(id(n))\r\n",
    "print(id(m))"
   ],
   "outputs": [],
   "metadata": {}
  }
 ],
 "metadata": {
  "orig_nbformat": 4,
  "language_info": {
   "name": "python",
   "version": "3.8.8",
   "mimetype": "text/x-python",
   "codemirror_mode": {
    "name": "ipython",
    "version": 3
   },
   "pygments_lexer": "ipython3",
   "nbconvert_exporter": "python",
   "file_extension": ".py"
  },
  "kernelspec": {
   "name": "python3",
   "display_name": "Python 3.8.8 64-bit ('base': conda)"
  },
  "interpreter": {
   "hash": "e4ea9f51126a42783da547ba185454a8cd3849cda04961f583534b8a51614973"
  }
 },
 "nbformat": 4,
 "nbformat_minor": 2
}