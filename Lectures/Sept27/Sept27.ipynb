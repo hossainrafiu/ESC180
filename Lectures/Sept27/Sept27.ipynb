{
 "cells": [
  {
   "cell_type": "code",
   "execution_count": null,
   "source": [
    "#n! = 1*2*3*...*n\r\n",
    "#compute the number of trailing zeros in n!\r\n",
    "#problem: computing n! for large n is very slow\r\n",
    "\r\n",
    "#n! = 1*2*3*...*5*...*(2*5)*...*(3*5)*....*(5*5)*...*124*(5*5*5)*...\r\n",
    "\r\n",
    "def multiplicity(n, k):\r\n",
    "    \"\"\"Return the multiplicity of k in n\r\n",
    "    (n = ...*k^m*..., return m)\"\"\"\r\n",
    "    count = 0\r\n",
    "    while n % k == 0:\r\n",
    "        n//=k\r\n",
    "        count += 1\r\n",
    "    \r\n",
    "    return count\r\n",
    "\r\n",
    "def trailing_zeros_fast(n):\r\n",
    "    '''Return the number of trailing zeros of n!\r\n",
    "    '''\r\n",
    "\r\n",
    "    factors5 = 0\r\n",
    "\r\n",
    "    for i in range(1, n+1):\r\n",
    "        factors5 += multiplicity(i, 5)\r\n",
    "\r\n",
    "    return factors5"
   ],
   "outputs": [],
   "metadata": {}
  },
  {
   "cell_type": "code",
   "execution_count": null,
   "source": [
    "trailing_zeros_fast(50000)"
   ],
   "outputs": [],
   "metadata": {}
  },
  {
   "cell_type": "code",
   "execution_count": null,
   "source": [
    "def is_non_decreasing(L):\r\n",
    "    '''Return True if L is a non-decreasing list. False o/w\r\n",
    "    >>> is_non_decreasing([1,2,3,4,5]) -> True\r\n",
    "    >>> is_non_decreasing([1,2,3,2,5]) -> False\r\n",
    "    '''\r\n",
    "\r\n",
    "    for i in range(1,len(L)):\r\n",
    "        if L[i] < L[i-1]:\r\n",
    "            return False\r\n",
    "    return True\r\n",
    "\r\n"
   ],
   "outputs": [],
   "metadata": {}
  },
  {
   "cell_type": "code",
   "execution_count": null,
   "source": [
    "print(is_non_decreasing([1,2,3,4,5]))\r\n",
    "print(is_non_decreasing([1,2,3,2,3]))"
   ],
   "outputs": [],
   "metadata": {}
  },
  {
   "cell_type": "code",
   "execution_count": 63,
   "source": [
    "def f(x):\r\n",
    "    return x**2\r\n",
    "\r\n",
    "g=f\r\n",
    "print(f(3))\r\n",
    "print(g(3))\r\n",
    "\r\n",
    "L1 = [1, \"1\", f]\r\n",
    "\r\n",
    "L2 = [1, 2, [3, 4], 5]\r\n",
    "\r\n",
    "print([1,2][1])\r\n",
    "\r\n",
    "#nested lists: lists within lists\r\n",
    "\r\n",
    "L3 = [[1, 2, 3],\r\n",
    "     [4, 5, 6],\r\n",
    "     [7, 8, 9]]\r\n",
    "\r\n",
    "L4 = [[1, 2, 3], [4, 5, 6], [7, 8, 9]] # same as L3\r\n",
    "\r\n",
    "print(L4[1][1]) #5\r\n",
    "\r\n",
    "L5 = [0,1,2,3]\r\n",
    "L5.insert(2, 1.5)\r\n",
    "print(L5)\r\n",
    "L5.append(\"last\")\r\n",
    "print(L5)\r\n",
    "L5.insert(len(L5), \"also last\")\r\n",
    "print(L5)\r\n",
    "print(L5.index(1.5))\r\n",
    "\r\n",
    "print(3 in L5)\r\n",
    "print(\"last\" in L5)\r\n",
    "print(\"Last\" in L5)\r\n",
    "print(0 not in L5)\r\n",
    "print(not(1 in L5))\r\n",
    "\r\n",
    "L6 = list(range(2, 10, 2))\r\n",
    "print(L6)\r\n",
    "\r\n",
    "L7 = [0,1,2,3,4,5,6,7,8,9]\r\n",
    "print(L7)\r\n",
    "L8 = L7[1:8:2]\r\n",
    "print(L8)\r\n",
    "print(L7[::2])\r\n",
    "print(L7[2::])\r\n",
    "print(L7[:5:])\r\n",
    "print(L7[5:1:-1])"
   ],
   "outputs": [
    {
     "output_type": "stream",
     "name": "stdout",
     "text": [
      "9\n",
      "9\n",
      "2\n",
      "5\n",
      "[0, 1, 1.5, 2, 3]\n",
      "[0, 1, 1.5, 2, 3, 'last']\n",
      "[0, 1, 1.5, 2, 3, 'last', 'also last']\n",
      "2\n",
      "True\n",
      "True\n",
      "False\n",
      "False\n",
      "False\n",
      "[2, 4, 6, 8]\n",
      "[0, 1, 2, 3, 4, 5, 6, 7, 8, 9]\n",
      "[1, 3, 5, 7]\n",
      "[0, 2, 4, 6, 8]\n",
      "[2, 3, 4, 5, 6, 7, 8, 9]\n",
      "[0, 1, 2, 3, 4]\n",
      "[5, 4, 3, 2]\n"
     ]
    }
   ],
   "metadata": {}
  }
 ],
 "metadata": {
  "orig_nbformat": 4,
  "language_info": {
   "name": "python",
   "version": "3.8.8",
   "mimetype": "text/x-python",
   "codemirror_mode": {
    "name": "ipython",
    "version": 3
   },
   "pygments_lexer": "ipython3",
   "nbconvert_exporter": "python",
   "file_extension": ".py"
  },
  "kernelspec": {
   "name": "python3",
   "display_name": "Python 3.8.8 64-bit ('base': conda)"
  },
  "interpreter": {
   "hash": "e4ea9f51126a42783da547ba185454a8cd3849cda04961f583534b8a51614973"
  }
 },
 "nbformat": 4,
 "nbformat_minor": 2
}