{
 "cells": [
  {
   "cell_type": "markdown",
   "source": [
    "For Loop\r\n",
    "\r\n",
    "repeat <block> N times\r\n",
    "for i in range (<N>):\r\n",
    "    <block>"
   ],
   "metadata": {}
  },
  {
   "cell_type": "code",
   "execution_count": null,
   "source": [
    "for i in range(5):\r\n",
    "    print(\"I <3 EngSci\")\r\n",
    "\r\n",
    "for i in range(5):\r\n",
    "    print(2*i)\r\n",
    "    print(i)\r\n",
    "    print(\"===============\")\r\n",
    "\r\n",
    "#a^n : a*a*....*a (n times)\r\n",
    "\r\n",
    "def my_pow(a, n):\r\n",
    "    '''Return a^n, where n is a non-negative intege\r\n",
    "    '''\r\n",
    "    prod=1\r\n",
    "    for i in range(n):\r\n",
    "        prod *= a\r\n",
    "    \r\n",
    "    return prod\r\n",
    "\r\n",
    "for i in range(5):\r\n",
    "    print(\"hi\")\r\n",
    "\r\n"
   ],
   "outputs": [],
   "metadata": {}
  },
  {
   "cell_type": "markdown",
   "source": [
    "While loops\r\n",
    "repeat block while <COND> is True\r\n",
    "while <COND>\r\n",
    "    <BLOCK>"
   ],
   "metadata": {}
  },
  {
   "cell_type": "code",
   "execution_count": null,
   "source": [
    "i = 0\r\n",
    "while i<5:\r\n",
    "    print(\"hi\", i)\r\n",
    "    i += 1\r\n",
    "\r\n",
    "for i in range(5):\r\n",
    "    print(\"hi\", i)\r\n",
    "\r\n"
   ],
   "outputs": [],
   "metadata": {}
  },
  {
   "cell_type": "markdown",
   "source": [
    "Compute log10(n)\r\n",
    "10^a = n, solve for a\r\n"
   ],
   "metadata": {}
  },
  {
   "cell_type": "code",
   "execution_count": null,
   "source": [
    "def my_log10(n):\r\n",
    "    res = 1\r\n",
    "    i = 0\r\n",
    "    while res < n:\r\n",
    "        res *= 10\r\n",
    "        i += 1\r\n",
    "    return i\r\n",
    "\r\n"
   ],
   "outputs": [],
   "metadata": {}
  },
  {
   "cell_type": "markdown",
   "source": [
    "Range Function"
   ],
   "metadata": {}
  },
  {
   "cell_type": "code",
   "execution_count": null,
   "source": [
    "for j in range(10):\r\n",
    "    print(j)\r\n",
    "\r\n",
    "for i in range(3, 5, 1):\r\n",
    "    print(i)\r\n",
    "\r\n",
    "for i in range (10, 3, -1):\r\n",
    "    print(i)"
   ],
   "outputs": [],
   "metadata": {}
  },
  {
   "cell_type": "code",
   "execution_count": null,
   "source": [
    "def is_prime(n):\r\n",
    "    \"\"\"Return True iff n is prime, n is an integer\r\n",
    "    \"\"\"\r\n",
    "    if n <= 1:\r\n",
    "        return False # Early Return\r\n",
    "    if n == 2:\r\n",
    "        return True\r\n",
    "    for i in range (2,n):\r\n",
    "        if n % i == 0:\r\n",
    "            return False\r\n",
    "    \r\n",
    "    return True\r\n",
    "\r\n"
   ],
   "outputs": [],
   "metadata": {}
  },
  {
   "cell_type": "code",
   "execution_count": null,
   "source": [
    "#pass\r\n",
    "n = 5\r\n",
    "if n % 1 != 0:\r\n",
    "    pass\r\n",
    "else:\r\n",
    "    a = False"
   ],
   "outputs": [],
   "metadata": {}
  },
  {
   "cell_type": "code",
   "execution_count": null,
   "source": [
    "for i in range (10):\r\n",
    "    if i == 5:\r\n",
    "        continue # to next block\r\n",
    "    print(i)\r\n",
    "\r\n"
   ],
   "outputs": [],
   "metadata": {}
  },
  {
   "cell_type": "code",
   "execution_count": null,
   "source": [
    "for i in range(5):\r\n",
    "    if i == 3:\r\n",
    "        break # from loop\r\n",
    "\r\n",
    "print(\"hi\")\r\n"
   ],
   "outputs": [],
   "metadata": {}
  }
 ],
 "metadata": {
  "orig_nbformat": 4,
  "language_info": {
   "name": "python",
   "version": "3.8.8",
   "mimetype": "text/x-python",
   "codemirror_mode": {
    "name": "ipython",
    "version": 3
   },
   "pygments_lexer": "ipython3",
   "nbconvert_exporter": "python",
   "file_extension": ".py"
  },
  "kernelspec": {
   "name": "python3",
   "display_name": "Python 3.8.8 64-bit ('base': conda)"
  },
  "interpreter": {
   "hash": "e4ea9f51126a42783da547ba185454a8cd3849cda04961f583534b8a51614973"
  }
 },
 "nbformat": 4,
 "nbformat_minor": 2
}